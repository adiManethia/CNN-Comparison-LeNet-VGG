{
  "nbformat": 4,
  "nbformat_minor": 0,
  "metadata": {
    "colab": {
      "provenance": []
    },
    "kernelspec": {
      "name": "python3",
      "display_name": "Python 3"
    },
    "language_info": {
      "name": "python"
    }
  },
  "cells": [
    {
      "cell_type": "code",
      "source": [
        "import torch\n",
        "import torch.nn as nn\n",
        "import torch.optim as optim\n",
        "from torchvision import datasets, transforms\n",
        "from torch.utils.data import DataLoader\n",
        "\n",
        "# Data Preprocessing\n",
        "transform = transforms.Compose([\n",
        "    transforms.ToTensor(),  # Convert to Tensor\n",
        "    transforms.Normalize((0.5,), (0.5,))  # Normalize to match Keras preprocessing\n",
        "])\n",
        "\n",
        "# Load MNIST Dataset\n",
        "train_dataset = datasets.MNIST(root='./data', train=True, download=True, transform=transform)\n",
        "test_dataset = datasets.MNIST(root='./data', train=False, download=True, transform=transform)\n",
        "\n",
        "# Data Loaders\n",
        "train_loader = DataLoader(train_dataset, batch_size=128, shuffle=True)\n",
        "test_loader = DataLoader(test_dataset, batch_size=128, shuffle=False)\n",
        "\n",
        "# Define LeNet Model\n",
        "class LeNet(nn.Module):\n",
        "    def __init__(self):\n",
        "        super(LeNet, self).__init__()\n",
        "        self.Conv1 = nn.Conv2d(1, 6, kernel_size=5)\n",
        "        self.pool1 = nn.MaxPool2d(kernel_size=2, stride=2)\n",
        "        self.Conv2 = nn.Conv2d(6, 16, kernel_size=5)\n",
        "        self.pool2 = nn.MaxPool2d(kernel_size=2, stride=2)\n",
        "        self.fc1 = nn.Linear(16 * 4 * 4, 120)  # Match feature size after flattening\n",
        "        self.fc2 = nn.Linear(120, 84)\n",
        "        self.fc3 = nn.Linear(84, 10)\n",
        "\n",
        "    def forward(self, x):\n",
        "        x = torch.relu(self.Conv1(x))\n",
        "        x = self.pool1(x)\n",
        "        x = torch.relu(self.Conv2(x))\n",
        "        x = self.pool2(x)\n",
        "        x = x.view(x.size(0), -1)  # Flatten dynamically\n",
        "        x = torch.relu(self.fc1(x))\n",
        "        x = torch.relu(self.fc2(x))\n",
        "        x = self.fc3(x)  # No activation here because CrossEntropyLoss includes Softmax\n",
        "        return x\n",
        "\n",
        "# Initialize Model, Loss Function, and Optimizer\n",
        "model = LeNet()\n",
        "criterion = nn.CrossEntropyLoss()  # Loss function\n",
        "optimizer = optim.Adam(model.parameters(), lr=0.001)  # Optimizer\n",
        "\n",
        "# Training the Model\n",
        "num_epochs = 20\n",
        "for epoch in range(num_epochs):\n",
        "    model.train()  # Set model to training mode\n",
        "    running_loss = 0.0\n",
        "    correct = 0\n",
        "    total = 0\n",
        "    for images, labels in train_loader:\n",
        "        # Forward pass\n",
        "        outputs = model(images)\n",
        "        loss = criterion(outputs, labels)\n",
        "\n",
        "        # Backward pass and optimization\n",
        "        optimizer.zero_grad()\n",
        "        loss.backward()\n",
        "        optimizer.step()\n",
        "\n",
        "        # Track loss and accuracy\n",
        "        running_loss += loss.item()\n",
        "        _, predicted = outputs.max(1)\n",
        "        total += labels.size(0)\n",
        "        correct += predicted.eq(labels).sum().item()\n",
        "\n",
        "    train_accuracy = 100 * correct / total\n",
        "    print(f\"Epoch {epoch+1}/{num_epochs}, Loss: {running_loss/len(train_loader):.4f}, Accuracy: {train_accuracy:.2f}%\")\n",
        "\n",
        "# Evaluating the Model\n",
        "model.eval()  # Set model to evaluation mode\n",
        "with torch.no_grad():\n",
        "    correct = 0\n",
        "    total = 0\n",
        "    for images, labels in test_loader:\n",
        "        outputs = model(images)\n",
        "        _, predicted = outputs.max(1)\n",
        "        total += labels.size(0)\n",
        "        correct += predicted.eq(labels).sum().item()\n",
        "\n",
        "    test_accuracy = 100 * correct / total\n",
        "    print(f\"Test Accuracy: {test_accuracy:.2f}%\")\n"
      ],
      "metadata": {
        "colab": {
          "base_uri": "https://localhost:8080/"
        },
        "id": "mPdJtlGxCdw4",
        "outputId": "3fc50625-a4fd-4130-a285-bc03f4448f4d"
      },
      "execution_count": 10,
      "outputs": [
        {
          "output_type": "stream",
          "name": "stdout",
          "text": [
            "Epoch 1/20, Loss: 0.3427, Accuracy: 89.33%\n",
            "Epoch 2/20, Loss: 0.0901, Accuracy: 97.25%\n",
            "Epoch 3/20, Loss: 0.0651, Accuracy: 98.03%\n",
            "Epoch 4/20, Loss: 0.0511, Accuracy: 98.47%\n",
            "Epoch 5/20, Loss: 0.0427, Accuracy: 98.68%\n",
            "Epoch 6/20, Loss: 0.0359, Accuracy: 98.84%\n",
            "Epoch 7/20, Loss: 0.0326, Accuracy: 98.93%\n",
            "Epoch 8/20, Loss: 0.0278, Accuracy: 99.13%\n",
            "Epoch 9/20, Loss: 0.0238, Accuracy: 99.23%\n",
            "Epoch 10/20, Loss: 0.0221, Accuracy: 99.27%\n",
            "Epoch 11/20, Loss: 0.0196, Accuracy: 99.34%\n",
            "Epoch 12/20, Loss: 0.0167, Accuracy: 99.41%\n",
            "Epoch 13/20, Loss: 0.0147, Accuracy: 99.53%\n",
            "Epoch 14/20, Loss: 0.0142, Accuracy: 99.52%\n",
            "Epoch 15/20, Loss: 0.0112, Accuracy: 99.63%\n",
            "Epoch 16/20, Loss: 0.0114, Accuracy: 99.61%\n",
            "Epoch 17/20, Loss: 0.0108, Accuracy: 99.60%\n",
            "Epoch 18/20, Loss: 0.0109, Accuracy: 99.63%\n",
            "Epoch 19/20, Loss: 0.0089, Accuracy: 99.69%\n",
            "Epoch 20/20, Loss: 0.0083, Accuracy: 99.73%\n",
            "Test Accuracy: 98.88%\n"
          ]
        }
      ]
    },
    {
      "cell_type": "code",
      "source": [],
      "metadata": {
        "id": "8okv5DG0Efm_"
      },
      "execution_count": null,
      "outputs": []
    }
  ]
}